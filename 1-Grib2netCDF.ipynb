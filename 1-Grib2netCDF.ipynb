{
 "cells": [
  {
   "cell_type": "markdown",
   "id": "c665649f-45aa-4596-9fb0-3a64a1803f9e",
   "metadata": {},
   "source": [
    "Precisa instalar o Pygrib"
   ]
  },
  {
   "cell_type": "code",
   "execution_count": 1,
   "id": "a3421c03-8ca1-437d-8e47-d5f2057539ad",
   "metadata": {
    "tags": []
   },
   "outputs": [],
   "source": [
    "import pandas as pd\n",
    "import os\n",
    "import numpy\n",
    "import pygrib\n",
    "import xarray as xr"
   ]
  },
  {
   "cell_type": "code",
   "execution_count": 2,
   "id": "a06cfde1-57ea-4314-99e6-77dac765bedf",
   "metadata": {
    "tags": []
   },
   "outputs": [
    {
     "name": "stdout",
     "output_type": "stream",
     "text": [
      "100.00%\r"
     ]
    }
   ],
   "source": [
    "# diretório onde estão os arquivos grib2\n",
    "grib_dir = r\"C:\\IC\\grib\"\n",
    "\n",
    "# salvando todos os arquivos grib2 em uma lista\n",
    "grib_files = [os.path.join(grib_dir,pasta, file) for pasta, _, arquivos in os.walk(grib_dir) for file in arquivos if file.endswith('grib2')]\n",
    "\n",
    "# for grb in arquivo:\n",
    "# print(grb.latlons())\n",
    "# print(grib_files)\n",
    "\n",
    "# função para converter arquivos grib2 em netCDF\n",
    "def convert_grib_to_netcdf(grib_files):\n",
    "\n",
    "    # abrindo o arquivo grib2\n",
    "    grbs = pygrib.open(grib_files)\n",
    "\n",
    "    # criando um dataset vazio\n",
    "    ds = xr.Dataset()\n",
    "\n",
    "    # loop para pegar todas as variáveis do arquivo grib2 e salvar no dataset\n",
    "    for grb in grbs:\n",
    "        variable_name = grb.shortName\n",
    "        data = grb.values\n",
    "        lats, lons = grb.latlons()\n",
    "\n",
    "        aux = xr.DataArray(data, coords=[lats[:,0], lons[0,:]], \n",
    "                            dims=['latitude', 'longitude'])\n",
    "\n",
    "        aux.attrs['units'] = grb.units\n",
    "        aux.attrs['long_name'] = grb.name\n",
    "        ds[variable_name] = aux\n",
    "\n",
    "    return ds\n",
    "\n",
    "# lendo a quantidade de arquivos para calcular o progresso\n",
    "quantidade_arquivos = len(grib_files)\n",
    "\n",
    "# contador para registrar quantos arquivos foram lidos\n",
    "arquivo_lido = 0\n",
    "\n",
    "# loop para ler todos os arquivos na pasta\n",
    "for arquivo_grib in grib_files:\n",
    "    \n",
    "    # pegando o nome do arquivo para salvar o netCDF\n",
    "    nome_arquivo = os.path.basename(arquivo_grib).removesuffix('.grib2')\n",
    "    \n",
    "    # print(arquivo_grib)\n",
    "    arquivo_netcdf = convert_grib_to_netcdf(arquivo_grib)\n",
    "\n",
    "    # salvando arquivos netCDF em uma pasta\n",
    "    arquivo_netcdf.to_netcdf(os.path.join(r\"C:\\IC\\netCDF\", f'{nome_arquivo}.nc'))\n",
    "\n",
    "    # contador para registrar quantos arquivos foram lidos e calculando o progresso\n",
    "    arquivo_lido += 1\n",
    "\n",
    "    # printando o progresso\n",
    "    print(f'\\r{arquivo_lido*100/quantidade_arquivos:.2f}%',end = '\\r')\n"
   ]
  }
 ],
 "metadata": {
  "kernelspec": {
   "display_name": "base",
   "language": "python",
   "name": "python3"
  },
  "language_info": {
   "codemirror_mode": {
    "name": "ipython",
    "version": 3
   },
   "file_extension": ".py",
   "mimetype": "text/x-python",
   "name": "python",
   "nbconvert_exporter": "python",
   "pygments_lexer": "ipython3",
   "version": "3.11.7"
  }
 },
 "nbformat": 4,
 "nbformat_minor": 5
}
